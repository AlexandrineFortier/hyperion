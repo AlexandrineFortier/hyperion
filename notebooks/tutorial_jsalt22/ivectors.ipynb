{
 "cells": [
  {
   "cell_type": "markdown",
   "metadata": {},
   "source": [
    "# i-Vectors Tutorial"
   ]
  },
  {
   "cell_type": "code",
   "execution_count": null,
   "metadata": {},
   "outputs": [],
   "source": [
    "hpath='/exp/jvillalba/hyperion/hyperion-persephone'\n",
    "import sys\n",
    "sys.path.append(hpath)"
   ]
  },
  {
   "cell_type": "code",
   "execution_count": null,
   "metadata": {},
   "outputs": [],
   "source": [
    "import numpy as np\n",
    "import matplotlib.pyplot as plt\n",
    "import hyperion as hyp\n",
    "import hyperion.np as hnp"
   ]
  },
  {
   "cell_type": "code",
   "execution_count": null,
   "metadata": {},
   "outputs": [],
   "source": [
    "def generate_data(num_dims, num_spks=10, num_utts=10, num_units=10, unit_length=10, tv_dim=2):\n",
    "    \"\"\" Generate data following the i-vector model\n",
    "\n",
    "    Args:\n",
    "      num_dims: number of dimensions of the features.\n",
    "      num_spks: number of speakers.\n",
    "      num_utts: number of utterances per speaker.\n",
    "      num_units: number of phonetic units per utterance.\n",
    "      unit_length: duration of each phonetic unit.\n",
    "    \"\"\"\n",
    "    rng = np.random.RandomState(seed=1234)\n",
    "    # we set the number of phonetic classes to 2^num_dim\n",
    "    num_comp = 2**num_dims\n",
    "    \n",
    "    # Define UBM\n",
    "    # Means of the GMM-UBM\n",
    "    ubm_means = np.zeros((num_comp, num_dims))\n",
    "    kernel=np.array([1.,-1.])[:,None]\n",
    "    ubm_means = kernel\n",
    "    for i in range(1,num_dims):\n",
    "        ubm_means = np.concatenate((np.repeat(kernel, int(2**i), axis=0), np.tile(ubm_means,(2,1))), axis=1)\n",
    "        \n",
    "    # Covariances of the GMM-UBM\n",
    "    ubm_cov = 0.1 * np.ones((num_comp, num_dims))\n",
    "    ubm_prec = 1./ubm_cov\n",
    "\n",
    "    # Weights of the GMM-UBM\n",
    "    ubm_weights = np.ones((num_comp))/num_comp\n",
    "    \n",
    "\n",
    "    # Define between and within speaker covariances\n",
    "    sb = 0.7\n",
    "    sw = 0.3\n",
    "\n",
    "    # Define Total Variability sub-space\n",
    "    T = rng.randn(tv_dim, num_dims * num_comp)\n",
    "    T = 0.2 * T/np.max(T)\n",
    "    \n",
    "    # Sample speakers\n",
    "    spk_ids = np.arange(num_spks)\n",
    "    y = sb * rng.randn(num_spks, tv_dim)\n",
    "\n",
    "    # Sample i-vectors\n",
    "    spk_ids = np.repeat(spk_ids, num_utts, axis=0)\n",
    "    y = np.repeat(y, num_utts, axis=0)\n",
    "    w = y + sw * rng.randn(num_spks*num_utts, tv_dim)\n",
    "\n",
    "    x = []\n",
    "    r_idx = []\n",
    "    # Sample features\n",
    "    for i in range(w.shape[0]):\n",
    "      # For each utterance\n",
    "      # Compute the GMM mean of the utterance\n",
    "      means_i = ubm_means + np.dot(w[i],T).reshape(num_dims,num_comp).T\n",
    "\n",
    "      # Create a GMM for the utterance.\n",
    "      gmm = hnp.pdfs.GMMDiagCov(pi=ubm_weights, mu=means_i, Lambda=ubm_prec)\n",
    "\n",
    "      # Sample the Gaussian components\n",
    "      r_i = rng.multinomial(1, ubm_weights, size=(num_units,))\n",
    "      # Assume that we stay in the same component several time steps.\n",
    "      r_i = np.repeat(r_i, unit_length, axis=0)\n",
    "      # Draw samples from the GMM\n",
    "      x_i = gmm.sample(r=r_i)\n",
    "      x.append(x_i)\n",
    "      r_idx.append(r_i.argmax(axis=-1))\n",
    "\n",
    "    return x, r_idx, spk_ids\n",
    "\n"
   ]
  },
  {
   "cell_type": "code",
   "execution_count": null,
   "metadata": {},
   "outputs": [],
   "source": [
    "x_dim=3\n",
    "x, r_idx, spk_ids=generate_data(num_dims=x_dim)"
   ]
  },
  {
   "cell_type": "code",
   "execution_count": null,
   "metadata": {},
   "outputs": [],
   "source": [
    "x_cat=np.concatenate(x, axis=0)\n",
    "fig = plt.figure()\n",
    "ax = fig.add_subplot(projection='3d')\n",
    "ax.scatter(x_cat[:,0], x_cat[:,1], x_cat[:,2], marker='o')\n",
    "ax.set_xlabel('x1')\n",
    "ax.set_ylabel('x2')\n",
    "ax.set_zlabel('x3')\n",
    "plt.show()"
   ]
  },
  {
   "cell_type": "code",
   "execution_count": null,
   "metadata": {},
   "outputs": [],
   "source": [
    "num_comp=8\n",
    "y_dim=2"
   ]
  },
  {
   "cell_type": "code",
   "execution_count": null,
   "metadata": {},
   "outputs": [],
   "source": [
    "ubm_gmm = hnp.pdfs.GMMDiagCov(num_comp=num_comp, x_dim=x_dim)\n",
    "elbo, elbo_norm = ubm_gmm.fit(x_cat, epochs=10)\n",
    "fig = plt.figure()\n",
    "plt.plot(elbo_norm)\n",
    "plt.xlabel('iters')\n",
    "plt.ylabel('log(p(x))')\n",
    "plt.grid(True)"
   ]
  },
  {
   "cell_type": "code",
   "execution_count": null,
   "metadata": {},
   "outputs": [],
   "source": [
    "ubm_gmm.mu\n",
    "ubm_gmm.pi\n",
    "ubm_gmm.Sigma\n",
    "fig=plt.figure()\n",
    "ax=fig.add_subplot(111, projection=\"3d\")\n",
    "ubm_gmm.plot3D_ellipsoid(num_sigmas=1, ax=ax)"
   ]
  },
  {
   "cell_type": "code",
   "execution_count": null,
   "metadata": {},
   "outputs": [],
   "source": [
    "iv_model = hnp.pdfs.JFATotal(K=num_comp, x_dim=x_dim, y_dim=y_dim)\n",
    "N=[]\n",
    "F=[]\n",
    "for x_i in x:\n",
    "    N_i, u_x_i = ubm_gmm.accum_suff_stats(x_i)\n",
    "    N_i, F_i = ubm_gmm.norm_suff_stats(N_i, u_x_i)\n",
    "    N.append(N_i.reshape(1,-1))\n",
    "    F.append(F_i.reshape(1,-1))\n",
    "\n",
    "N = np.concatenate(N, axis=0)\n",
    "F = np.concatenate(F, axis=0)\n",
    "\n",
    "elbo, elbo_norm = iv_model.fit(N, F)\n",
    "fig = plt.figure()\n",
    "plt.plot(elbo_norm)\n",
    "plt.xlabel('iters')\n",
    "plt.ylabel('log(p(x))')\n",
    "plt.grid(True)"
   ]
  },
  {
   "cell_type": "code",
   "execution_count": null,
   "metadata": {},
   "outputs": [],
   "source": [
    "num_utts=100\n",
    "w = np.randn(num_utts, 2)\n",
    "M = ubm_gmm.mu.ravel() + ubm_gmm.cholLambda.ravel() * np.dot(w, iv_model.T)\n",
    "M = M.reshape(num_utts, num_comp, x_dim)\n",
    "fig = plt.figure()\n",
    "ax = fig.add_subplot(projection='3d')\n",
    "colors = ['b', 'g','r','c','m','y','k','b']\n",
    "for i in range(num_comp):\n",
    "    ax.plot_surface(M[:,i,0], M[:,i,1], M[:,i,2], alpha=0.2, color=colors[i])\n",
    "    ax.scatter(M[:,i,0], M[:,i,1], M[:,i,2], marker='o', color=colors[i])\n",
    "ax.set_xlabel('x1')\n",
    "ax.set_ylabel('x2')\n",
    "ax.set_zlabel('x3')\n",
    "plt.show()\n",
    "\n",
    "\n"
   ]
  }
 ],
 "metadata": {
  "interpreter": {
   "hash": "488a239b304e646027d6710c3377746db4487e56624448f35f81edd765904a6d"
  },
  "kernelspec": {
   "display_name": "Python 3.8.12 ('py38_pt101_cu112')",
   "language": "python",
   "name": "python3"
  },
  "language_info": {
   "codemirror_mode": {
    "name": "ipython",
    "version": 3
   },
   "file_extension": ".py",
   "mimetype": "text/x-python",
   "name": "python",
   "nbconvert_exporter": "python",
   "pygments_lexer": "ipython3",
   "version": "3.8.12"
  },
  "orig_nbformat": 4
 },
 "nbformat": 4,
 "nbformat_minor": 2
}

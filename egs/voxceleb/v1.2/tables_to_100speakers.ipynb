{
 "cells": [
  {
   "cell_type": "code",
   "execution_count": 1,
   "id": "initial_id",
   "metadata": {},
   "outputs": [],
   "source": [
    "import pandas"
   ]
  },
  {
   "cell_type": "code",
   "execution_count": 5,
   "id": "2efad586-50fd-4809-a3f8-8d54cf0c2b91",
   "metadata": {},
   "outputs": [
    {
     "name": "stdout",
     "output_type": "stream",
     "text": [
      "Files in '/home/aforti1/hyperion/egs/voxceleb/v1.2': ['README.md', 'cmd.sh', 'conf', 'default_config.sh', 'global_conf', 'hyp_utils', 'path.sh', 'run_001_prepare_data.sh', 'run_002_compute_evad.sh', 'run_003_prepare_noises_rirs.sh', 'run_004_prepare_xvec_train_data.sh', 'run_005_train_xvector.sh', 'run_006_extract_xvectors.sh', 'run_007_eval_be.sh', 'data', 'datapath.sh', 'exp', 'rirs_noises.zip', 'RIRS_NOISES', '.ipynb_checkpoints', 'tables_to_100speakers.ipynb']\n"
     ]
    }
   ],
   "source": [
    "import os\n",
    "\n",
    "cwd = os.getcwd()  # Get the current working directory (cwd)\n",
    "files = os.listdir(cwd)  # Get all the files in that directory\n",
    "print(\"Files in %r: %s\" % (cwd, files))"
   ]
  },
  {
   "cell_type": "code",
   "execution_count": 5,
   "id": "a9f312f1-fa2c-421b-b5a8-7ac00228f25d",
   "metadata": {},
   "outputs": [],
   "source": [
    "df = pandas.read_csv(\"data/voxceleb2cat_train/segments.csv\")"
   ]
  },
  {
   "cell_type": "code",
   "execution_count": 24,
   "id": "f8f31786-adf6-4e09-8885-f8a6a3f1aba2",
   "metadata": {},
   "outputs": [
    {
     "data": {
      "text/plain": [
       "'id00175'"
      ]
     },
     "execution_count": 24,
     "metadata": {},
     "output_type": "execute_result"
    }
   ],
   "source": [
    "df.loc[i]['speaker']"
   ]
  },
  {
   "cell_type": "code",
   "execution_count": 20,
   "id": "00443d0f-4008-4b78-acc7-dbdf9d289b7d",
   "metadata": {},
   "outputs": [
    {
     "name": "stdout",
     "output_type": "stream",
     "text": [
      "id00012\n",
      "id00015\n",
      "id00016\n",
      "id00018\n",
      "id00019\n",
      "id00020\n",
      "id00021\n",
      "id00022\n",
      "id00024\n",
      "id00025\n",
      "id00026\n",
      "id00027\n",
      "id00028\n",
      "id00029\n",
      "id00032\n",
      "id00033\n",
      "id00035\n",
      "id00036\n",
      "id00039\n",
      "id00040\n",
      "id00042\n",
      "id00043\n",
      "id00044\n",
      "id00046\n",
      "id00047\n",
      "id00049\n",
      "id00050\n",
      "id00051\n",
      "id00052\n",
      "id00053\n",
      "id00055\n",
      "id00056\n",
      "id00058\n",
      "id00059\n",
      "id00060\n",
      "id00062\n",
      "id00063\n",
      "id00064\n",
      "id00066\n",
      "id00067\n",
      "id00068\n",
      "id00069\n",
      "id00070\n",
      "id00071\n",
      "id00073\n",
      "id00074\n",
      "id00075\n",
      "id00076\n",
      "id00078\n",
      "id00079\n",
      "id00080\n",
      "id00082\n",
      "id00083\n",
      "id00084\n",
      "id00085\n",
      "id00086\n",
      "id00087\n",
      "id00088\n",
      "id00089\n",
      "id00090\n",
      "id00091\n",
      "id00092\n",
      "id00096\n",
      "id00097\n",
      "id00098\n",
      "id00099\n",
      "id00100\n",
      "id00103\n",
      "id00104\n",
      "id00105\n",
      "id00109\n",
      "id00111\n",
      "id00114\n",
      "id00116\n",
      "id00117\n",
      "id00126\n",
      "id00127\n",
      "id00128\n",
      "id00129\n",
      "id00134\n",
      "id00137\n",
      "id00144\n",
      "id00145\n",
      "id00146\n",
      "id00149\n",
      "id00151\n",
      "id00155\n",
      "id00159\n",
      "id00161\n",
      "id00163\n",
      "id00164\n",
      "id00165\n",
      "id00166\n",
      "id00167\n",
      "id00168\n",
      "id00169\n",
      "id00170\n",
      "id00171\n",
      "id00172\n",
      "id00173\n"
     ]
    }
   ],
   "source": [
    "nb_speakers = 0\n",
    "\n",
    "for i, row in df.iterrows():\n",
    "    id = row['speaker']\n",
    "    if(id != df.loc[i + 1]['speaker']):\n",
    "        print(id)\n",
    "        nb_speakers = nb_speakers + 1\n",
    "    if(nb_speakers == 100):\n",
    "        last_row = i\n",
    "        break"
   ]
  },
  {
   "cell_type": "code",
   "execution_count": 21,
   "id": "783b9861-524f-4b32-b53c-669b93098a6e",
   "metadata": {},
   "outputs": [
    {
     "data": {
      "text/plain": [
       "2353"
      ]
     },
     "execution_count": 21,
     "metadata": {},
     "output_type": "execute_result"
    }
   ],
   "source": [
    "i"
   ]
  },
  {
   "cell_type": "code",
   "execution_count": 22,
   "id": "4d07bf91-678e-472a-a5fb-5736b971a586",
   "metadata": {},
   "outputs": [],
   "source": [
    "df_100 = df.head(i)"
   ]
  },
  {
   "cell_type": "code",
   "execution_count": 25,
   "id": "71b576b0-033f-4af1-9a3d-d3ee3a08e745",
   "metadata": {},
   "outputs": [],
   "source": [
    "df_100.to_csv('segments_100.csv', index=False)"
   ]
  },
  {
   "cell_type": "code",
   "execution_count": null,
   "id": "126240da-8e89-4db9-bcc0-aaf01705f341",
   "metadata": {},
   "outputs": [],
   "source": []
  }
 ],
 "metadata": {
  "kernelspec": {
   "display_name": "Python 3 (ipykernel)",
   "language": "python",
   "name": "python3"
  },
  "language_info": {
   "codemirror_mode": {
    "name": "ipython",
    "version": 3
   },
   "file_extension": ".py",
   "mimetype": "text/x-python",
   "name": "python",
   "nbconvert_exporter": "python",
   "pygments_lexer": "ipython3",
   "version": "3.11.9"
  }
 },
 "nbformat": 4,
 "nbformat_minor": 5
}
